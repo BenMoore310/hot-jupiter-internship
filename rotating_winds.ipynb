{
 "cells": [
  {
   "cell_type": "code",
   "execution_count": 250,
   "metadata": {},
   "outputs": [],
   "source": [
    "from pathlib import Path\n",
    "import numpy as np\n",
    "import iris\n",
    "from aeolus.calc import wind_rot_div\n",
    "from aeolus.core import AtmoSim\n",
    "from aeolus.model import um\n",
    "tgt_plevs = np.logspace(7, 2, 65)  # target pressure levels\n",
    "from aeolus.coord import interp_cube_from_height_to_pressure_levels\n",
    "import warnings\n",
    "import matplotlib.pyplot as plt\n",
    "from aeolus.plot import subplot_label_generator\n",
    "\n",
    "import matplotlib.pyplot as plt\n",
    "from matplotlib.animation import FuncAnimation, PillowWriter\n",
    "import numpy as np\n",
    "from matplotlib import animation\n",
    "\n",
    "from matplotlib.offsetbox import AnchoredText\n",
    "\n",
    "\n"
   ]
  },
  {
   "cell_type": "code",
   "execution_count": 251,
   "metadata": {},
   "outputs": [
    {
     "data": {
      "text/plain": [
       "100.0"
      ]
     },
     "execution_count": 251,
     "metadata": {},
     "output_type": "execute_result"
    }
   ],
   "source": [
    "tgt_plevs[64]"
   ]
  },
  {
   "cell_type": "code",
   "execution_count": 252,
   "metadata": {},
   "outputs": [],
   "source": [
    "warnings.filterwarnings(\"ignore\", module=\"iris\")"
   ]
  },
  {
   "cell_type": "code",
   "execution_count": 253,
   "metadata": {},
   "outputs": [
    {
     "name": "stdout",
     "output_type": "stream",
     "text": [
      "['/data/mz355/um_runs/wasp96b/equilibrium/u-cp770/raw/atmos_base_0010/atmosa.pb00000000_00', '/data/mz355/um_runs/wasp96b/equilibrium/u-cp770/raw/atmos_base_0010/atmosa.pc00000000_00', '/data/mz355/um_runs/wasp96b/equilibrium/u-cp770/raw/atmos_base_0020/atmosa.pb00000010_00', '/data/mz355/um_runs/wasp96b/equilibrium/u-cp770/raw/atmos_base_0020/atmosa.pc00000010_00', '/data/mz355/um_runs/wasp96b/equilibrium/u-cp770/raw/atmos_base_0030/atmosa.pb00000020_00', '/data/mz355/um_runs/wasp96b/equilibrium/u-cp770/raw/atmos_base_0030/atmosa.pc00000020_00', '/data/mz355/um_runs/wasp96b/equilibrium/u-cp770/raw/atmos_base_0040/atmosa.pb00000030_00', '/data/mz355/um_runs/wasp96b/equilibrium/u-cp770/raw/atmos_base_0040/atmosa.pc00000030_00', '/data/mz355/um_runs/wasp96b/equilibrium/u-cp770/raw/atmos_base_0050/atmosa.pb00000040_00', '/data/mz355/um_runs/wasp96b/equilibrium/u-cp770/raw/atmos_base_0050/atmosa.pc00000040_00', '/data/mz355/um_runs/wasp96b/equilibrium/u-cp770/raw/atmos_base_0060/atmosa.pb00000050_00', '/data/mz355/um_runs/wasp96b/equilibrium/u-cp770/raw/atmos_base_0060/atmosa.pc00000050_00', '/data/mz355/um_runs/wasp96b/equilibrium/u-cp770/raw/atmos_base_0070/atmosa.pb00000060_00', '/data/mz355/um_runs/wasp96b/equilibrium/u-cp770/raw/atmos_base_0070/atmosa.pc00000060_00', '/data/mz355/um_runs/wasp96b/equilibrium/u-cp770/raw/atmos_base_0080/atmosa.pb00000070_00', '/data/mz355/um_runs/wasp96b/equilibrium/u-cp770/raw/atmos_base_0080/atmosa.pc00000070_00', '/data/mz355/um_runs/wasp96b/equilibrium/u-cp770/raw/atmos_base_0090/atmosa.pb00000080_00', '/data/mz355/um_runs/wasp96b/equilibrium/u-cp770/raw/atmos_base_0090/atmosa.pc00000080_00', '/data/mz355/um_runs/wasp96b/equilibrium/u-cp770/raw/atmos_base_0100/atmosa.pb00000090_00', '/data/mz355/um_runs/wasp96b/equilibrium/u-cp770/raw/atmos_base_0100/atmosa.pc00000090_00', '/data/mz355/um_runs/wasp96b/equilibrium/u-cp770/raw/atmos_base_0110/atmosa.pb000000100_00', '/data/mz355/um_runs/wasp96b/equilibrium/u-cp770/raw/atmos_base_0110/atmosa.pc000000100_00', '/data/mz355/um_runs/wasp96b/equilibrium/u-cp770/raw/atmos_base_0120/atmosa.pb000000110_00', '/data/mz355/um_runs/wasp96b/equilibrium/u-cp770/raw/atmos_base_0120/atmosa.pc000000110_00', '/data/mz355/um_runs/wasp96b/equilibrium/u-cp770/raw/atmos_base_0130/atmosa.pb000000120_00', '/data/mz355/um_runs/wasp96b/equilibrium/u-cp770/raw/atmos_base_0130/atmosa.pc000000120_00', '/data/mz355/um_runs/wasp96b/equilibrium/u-cp770/raw/atmos_base_0140/atmosa.pb000000130_00', '/data/mz355/um_runs/wasp96b/equilibrium/u-cp770/raw/atmos_base_0140/atmosa.pc000000130_00', '/data/mz355/um_runs/wasp96b/equilibrium/u-cp770/raw/atmos_base_0150/atmosa.pb000000140_00', '/data/mz355/um_runs/wasp96b/equilibrium/u-cp770/raw/atmos_base_0150/atmosa.pc000000140_00', '/data/mz355/um_runs/wasp96b/equilibrium/u-cp770/raw/atmos_base_0160/atmosa.pb000000150_00', '/data/mz355/um_runs/wasp96b/equilibrium/u-cp770/raw/atmos_base_0160/atmosa.pc000000150_00', '/data/mz355/um_runs/wasp96b/equilibrium/u-cp770/raw/atmos_base_0170/atmosa.pb000000160_00', '/data/mz355/um_runs/wasp96b/equilibrium/u-cp770/raw/atmos_base_0170/atmosa.pc000000160_00']\n"
     ]
    }
   ],
   "source": [
    "#this is for the 10x solar runs\n",
    "# parents_dir_k1 = Path(\"/data/mz355/um_runs/wasp96b/kinetics/u-cp805/raw/atmos_base_0080\")\n",
    "parents_dir_eq1 = Path(\"/data/mz355/um_runs/wasp96b/equilibrium/u-cp770/raw/\")\n",
    "\n",
    "# parents_dir = Path.home().parent.parent/\"data\" / \"mz355\" /\"um_runs\"/\"wasp96b\"/\"equilibrium\"/\"u-cp158\"/\"raw\"\n",
    "flist = []\n",
    "for windfile in parents_dir_eq1.glob('**/atmos_base_*/atmosa.*'):  # this directory and all subdirectories, recursively\n",
    "     if (\"atmosa.pc\" in windfile.name or \"atmosa.pb\" in windfile.name):\n",
    "        flist.append(str(windfile))\n",
    "\n",
    "len(sorted(flist))\n",
    "\n",
    "print(sorted(flist))\n",
    "# print(parents_dir)\n",
    "\n",
    "# eq_file_1 = parents_dir_eq1 / \"atmosa.pc000000120_00\"\n",
    "# eq_pressure_1 = parents_dir_eq1 / \"atmosa.pb000000120_00\"\n",
    "# eq_data_1 = iris.load(eq_file_1)\n",
    "# eq_pressure_file_1 = iris.load(eq_pressure_1)\n",
    "\n",
    "\n",
    "# kin_file_1 = parents_dir_k1 / \"atmosa.pc00000070_00\"\n",
    "# kin_pressure_1 = parents_dir_k1 / \"atmosa.pb00000070_00\"\n",
    "\n",
    "# kin_data_1 = iris.load(kin_file_1)\n",
    "# print(kin_data_1)\n",
    "# print(eq_data_1)"
   ]
  },
  {
   "cell_type": "code",
   "execution_count": 254,
   "metadata": {},
   "outputs": [],
   "source": [
    "winds = iris.load(flist)"
   ]
  },
  {
   "cell_type": "code",
   "execution_count": 255,
   "metadata": {},
   "outputs": [
    {
     "name": "stdout",
     "output_type": "stream",
     "text": [
      "0: air_pressure / (Pa)                 (time: 17; model_level_number: 67; latitude: 90; longitude: 144)\n",
      "1: air_temperature / (K)               (time: 17; model_level_number: 66; latitude: 90; longitude: 144)\n",
      "2: upward_air_velocity / (m s-1)       (time: 17; model_level_number: 67; latitude: 90; longitude: 144)\n",
      "3: x_wind / (m s-1)                    (time: 17; model_level_number: 66; latitude: 90; longitude: 144)\n",
      "4: y_wind / (m s-1)                    (time: 17; model_level_number: 66; latitude: 91; longitude: 144)\n"
     ]
    }
   ],
   "source": [
    "print(winds)"
   ]
  },
  {
   "cell_type": "code",
   "execution_count": 256,
   "metadata": {},
   "outputs": [],
   "source": [
    "#sorting out the pressure files\n",
    "\n",
    "pressure_cube_eq1 = winds.extract_cube(\"air_pressure\")[:,:66,:,:]\n",
    "# pressure_cube_eq1=pressure_cube_eq1"
   ]
  },
  {
   "cell_type": "code",
   "execution_count": 257,
   "metadata": {},
   "outputs": [
    {
     "data": {
      "text/html": [
       "\n",
       "<style>\n",
       "  a.iris {\n",
       "      text-decoration: none !important;\n",
       "  }\n",
       "  table.iris {\n",
       "      white-space: pre;\n",
       "      border: 1px solid;\n",
       "      border-color: #9c9c9c;\n",
       "      font-family: monaco, monospace;\n",
       "  }\n",
       "  th.iris {\n",
       "      background: #303f3f;\n",
       "      color: #e0e0e0;\n",
       "      border-left: 1px solid;\n",
       "      border-color: #9c9c9c;\n",
       "      font-size: 1.05em;\n",
       "      min-width: 50px;\n",
       "      max-width: 125px;\n",
       "  }\n",
       "  tr.iris :first-child {\n",
       "      border-right: 1px solid #9c9c9c !important;\n",
       "  }\n",
       "  td.iris-title {\n",
       "      background: #d5dcdf;\n",
       "      border-top: 1px solid #9c9c9c;\n",
       "      font-weight: bold;\n",
       "  }\n",
       "  .iris-word-cell {\n",
       "      text-align: left !important;\n",
       "      white-space: pre;\n",
       "  }\n",
       "  .iris-subheading-cell {\n",
       "      padding-left: 2em !important;\n",
       "  }\n",
       "  .iris-inclusion-cell {\n",
       "      padding-right: 1em !important;\n",
       "  }\n",
       "  .iris-panel-body {\n",
       "      padding-top: 0px;\n",
       "  }\n",
       "  .iris-panel-title {\n",
       "      padding-left: 3em;\n",
       "  }\n",
       "  .iris-panel-title {\n",
       "      margin-top: 7px;\n",
       "  }\n",
       "</style>\n",
       "<table class=\"iris\" id=\"140343743418560\">\n",
       "    <tr class=\"iris\">\n",
       "<th class=\"iris iris-word-cell\">Air Pressure (Pa)</th>\n",
       "<th class=\"iris iris-word-cell\">time</th>\n",
       "<th class=\"iris iris-word-cell\">model_level_number</th>\n",
       "<th class=\"iris iris-word-cell\">latitude</th>\n",
       "<th class=\"iris iris-word-cell\">longitude</th>\n",
       "</tr>\n",
       "    <tr class=\"iris\">\n",
       "<td class=\"iris-word-cell iris-subheading-cell\">Shape</td>\n",
       "<td class=\"iris iris-inclusion-cell\">17</td>\n",
       "<td class=\"iris iris-inclusion-cell\">66</td>\n",
       "<td class=\"iris iris-inclusion-cell\">90</td>\n",
       "<td class=\"iris iris-inclusion-cell\">144</td>\n",
       "</tr>\n",
       "    <tr class=\"iris\">\n",
       "    <td class=\"iris-title iris-word-cell\">Dimension coordinates</td>\n",
       "    <td class=\"iris-title\"></td>\n",
       "    <td class=\"iris-title\"></td>\n",
       "    <td class=\"iris-title\"></td>\n",
       "    <td class=\"iris-title\"></td>\n",
       "</tr>\n",
       "<tr class=\"iris\">\n",
       "    <td class=\"iris-word-cell iris-subheading-cell\">\ttime</td>\n",
       "    <td class=\"iris-inclusion-cell\">x</td>\n",
       "    <td class=\"iris-inclusion-cell\">-</td>\n",
       "    <td class=\"iris-inclusion-cell\">-</td>\n",
       "    <td class=\"iris-inclusion-cell\">-</td>\n",
       "</tr>\n",
       "<tr class=\"iris\">\n",
       "    <td class=\"iris-word-cell iris-subheading-cell\">\tmodel_level_number</td>\n",
       "    <td class=\"iris-inclusion-cell\">-</td>\n",
       "    <td class=\"iris-inclusion-cell\">x</td>\n",
       "    <td class=\"iris-inclusion-cell\">-</td>\n",
       "    <td class=\"iris-inclusion-cell\">-</td>\n",
       "</tr>\n",
       "<tr class=\"iris\">\n",
       "    <td class=\"iris-word-cell iris-subheading-cell\">\tlatitude</td>\n",
       "    <td class=\"iris-inclusion-cell\">-</td>\n",
       "    <td class=\"iris-inclusion-cell\">-</td>\n",
       "    <td class=\"iris-inclusion-cell\">x</td>\n",
       "    <td class=\"iris-inclusion-cell\">-</td>\n",
       "</tr>\n",
       "<tr class=\"iris\">\n",
       "    <td class=\"iris-word-cell iris-subheading-cell\">\tlongitude</td>\n",
       "    <td class=\"iris-inclusion-cell\">-</td>\n",
       "    <td class=\"iris-inclusion-cell\">-</td>\n",
       "    <td class=\"iris-inclusion-cell\">-</td>\n",
       "    <td class=\"iris-inclusion-cell\">x</td>\n",
       "</tr>\n",
       "<tr class=\"iris\">\n",
       "    <td class=\"iris-title iris-word-cell\">Auxiliary coordinates</td>\n",
       "    <td class=\"iris-title\"></td>\n",
       "    <td class=\"iris-title\"></td>\n",
       "    <td class=\"iris-title\"></td>\n",
       "    <td class=\"iris-title\"></td>\n",
       "</tr>\n",
       "<tr class=\"iris\">\n",
       "    <td class=\"iris-word-cell iris-subheading-cell\">\tforecast_period</td>\n",
       "    <td class=\"iris-inclusion-cell\">x</td>\n",
       "    <td class=\"iris-inclusion-cell\">-</td>\n",
       "    <td class=\"iris-inclusion-cell\">-</td>\n",
       "    <td class=\"iris-inclusion-cell\">-</td>\n",
       "</tr>\n",
       "<tr class=\"iris\">\n",
       "    <td class=\"iris-word-cell iris-subheading-cell\">\tlevel_height</td>\n",
       "    <td class=\"iris-inclusion-cell\">-</td>\n",
       "    <td class=\"iris-inclusion-cell\">x</td>\n",
       "    <td class=\"iris-inclusion-cell\">-</td>\n",
       "    <td class=\"iris-inclusion-cell\">-</td>\n",
       "</tr>\n",
       "<tr class=\"iris\">\n",
       "    <td class=\"iris-word-cell iris-subheading-cell\">\tsigma</td>\n",
       "    <td class=\"iris-inclusion-cell\">-</td>\n",
       "    <td class=\"iris-inclusion-cell\">x</td>\n",
       "    <td class=\"iris-inclusion-cell\">-</td>\n",
       "    <td class=\"iris-inclusion-cell\">-</td>\n",
       "</tr>\n",
       "<tr class=\"iris\">\n",
       "    <td class=\"iris-title iris-word-cell\">Scalar coordinates</td>\n",
       "    <td class=\"iris-title\"></td>\n",
       "    <td class=\"iris-title\"></td>\n",
       "    <td class=\"iris-title\"></td>\n",
       "    <td class=\"iris-title\"></td>\n",
       "</tr>\n",
       "<tr class=\"iris\">\n",
       "    <td class=\"iris-word-cell iris-subheading-cell\">\tforecast_reference_time     2002-05-24 09</td>\n",
       "    <td class=\"iris-word-cell\" colspan=\"4\">0:00</td>\n",
       "</tr>\n",
       "<tr class=\"iris\">\n",
       "    <td class=\"iris-title iris-word-cell\">Attributes</td>\n",
       "    <td class=\"iris-title\"></td>\n",
       "    <td class=\"iris-title\"></td>\n",
       "    <td class=\"iris-title\"></td>\n",
       "    <td class=\"iris-title\"><br>STASH                       m01s00i408<br>source                      &#x27;Data from Met Office Unified Model&#x27;<br>um_version                  &#x27;11.6&#x27;</td>\n",
       "</tr>\n",
       "</table>\n",
       "        "
      ],
      "text/plain": [
       "<iris 'Cube' of air_pressure / (Pa) (time: 17; model_level_number: 66; latitude: 90; longitude: 144)>"
      ]
     },
     "execution_count": 257,
     "metadata": {},
     "output_type": "execute_result"
    }
   ],
   "source": [
    "pressure_cube_eq1"
   ]
  },
  {
   "cell_type": "code",
   "execution_count": 258,
   "metadata": {},
   "outputs": [
    {
     "name": "stdout",
     "output_type": "stream",
     "text": [
      "aeolus.core AtmoSim 't1e' [5 cubes]\n",
      "description | Time-mean output from a UM simulation of the THAI Hab 1 case.\n",
      "     planet | WASP-96b\n",
      "      model | Model with 95 fields: t, fcst_ref, fcst_prd, z, lev, s, d, p, y, x, u, v, w, pres, thta, exner, sh,\n",
      "t_sfc, p_sfc, toa_isr, toa_olr, toa_olr_cs, toa_osr, toa_osr_cs, sfc_dn_lw, sfc_dn_lw_cs, sfc_dn_sw,\n",
      "sfc_dn_sw_cs, sfc_net_down_lw, sfc_net_down_sw, lw_up, lw_up_forcing, lw_dn_forcing, sw_up, lw_dn,\n",
      "sw_dn, lw_up_cs, sw_up_cs, lw_dn_cs, sw_dn_cs, sfc_shf, sfc_lhf, sfc_evap, sfc_x_wind_stress,\n",
      "sfc_y_wind_stress, temp, dens, ghgt, rh, cld_ice_mf, cld_liq_mf, rain_mf, cca_anvil, ccw_rad,\n",
      "cld_top_hgt, cld_ice_v, cld_liq_v, cld_v, caf, caf_h, caf_m, caf_l, caf_vl, ppn, ls_rain, ls_snow,\n",
      "cv_rain, cv_snow, dt_sw, dt_sw_cs, dt_lw, dt_lw_cs, dt_lsppn, dt_bl, dt_cv, dt_lscld, dt_adv, dq_sw,\n",
      "dq_lw, dq_lsppn, dq_bl, dq_cv, dq_lscld, dq_adv, du_bl, du_cv, du_solve, du_adv, du_total,\n",
      "soil_moist, ep_flux_y, ep_flux_z, ep_flux_div, light_flash_rate, light_number\n",
      "     domain | Geographical region 't1e_domain' (west=-178.75, east=178.75, south=-89.0, north=89.0)\n",
      "0: air_pressure / (Pa)                 (time: 17; model_level_number: 67; latitude: 90; longitude: 144)\n",
      "1: air_temperature / (K)               (time: 17; model_level_number: 66; latitude: 90; longitude: 144)\n",
      "2: upward_air_velocity / (m s-1)       (time: 17; model_level_number: 67; latitude: 90; longitude: 144)\n",
      "3: x_wind / (m s-1)                    (time: 17; model_level_number: 66; latitude: 90; longitude: 144)\n",
      "4: y_wind / (m s-1)                    (time: 17; model_level_number: 66; latitude: 91; longitude: 144)\n",
      "\n"
     ]
    }
   ],
   "source": [
    "#equilibrium first\n",
    "\n",
    "my_run = AtmoSim(\n",
    "    cubes=winds,\n",
    "    name=\"t1e\",\n",
    "    description=\"Time-mean output from a UM simulation of the THAI Hab 1 case.\",\n",
    "    planet=\"WASP-96b\",  # this reads constants from a JSON file\n",
    ")\n",
    "print(my_run)"
   ]
  },
  {
   "cell_type": "code",
   "execution_count": 259,
   "metadata": {},
   "outputs": [],
   "source": [
    "u = my_run.u.extract(iris.Constraint())\n",
    "v = my_run.v.extract(iris.Constraint())\n",
    "v = v.regrid(u, iris.analysis.Linear())"
   ]
  },
  {
   "cell_type": "code",
   "execution_count": 260,
   "metadata": {},
   "outputs": [
    {
     "name": "stdout",
     "output_type": "stream",
     "text": [
      "(17, 65, 90, 144) (17, 65, 90, 144)\n"
     ]
    }
   ],
   "source": [
    "u_plevs = interp_cube_from_height_to_pressure_levels(u, pressure_cube_eq1, tgt_plevs)\n",
    "v_plevs = interp_cube_from_height_to_pressure_levels(v, pressure_cube_eq1, tgt_plevs)\n",
    "print(u_plevs.shape, v_plevs.shape)"
   ]
  },
  {
   "cell_type": "code",
   "execution_count": 261,
   "metadata": {},
   "outputs": [],
   "source": [
    "# u_at_8km = my_run.u.extract(iris.Constraint(**{um.z: 312200}))\n",
    "# v_at_8km = my_run.v.extract(iris.Constraint(**{um.z: 80000}))"
   ]
  },
  {
   "cell_type": "code",
   "execution_count": 262,
   "metadata": {},
   "outputs": [],
   "source": [
    "# print(u_at_8km.coord(um.z))"
   ]
  },
  {
   "cell_type": "code",
   "execution_count": 263,
   "metadata": {},
   "outputs": [
    {
     "name": "stdout",
     "output_type": "stream",
     "text": [
      "{'u_total': <iris 'Cube' of x_wind / (m s-1) (time: 17; latitude: 90; longitude: 144)>, 'v_total': <iris 'Cube' of y_wind / (m s-1) (time: 17; latitude: 90; longitude: 144)>, 'u_div': <iris 'Cube' of irrotational_eastward_wind / (m s**-1) (time: 17; latitude: 90; longitude: 144)>, 'v_div': <iris 'Cube' of irrotational_northward_wind / (m s**-1) (time: 17; latitude: 90; longitude: 144)>, 'u_rot': <iris 'Cube' of non_divergent_eastward_wind / (m s**-1) (time: 17; latitude: 90; longitude: 144)>, 'v_rot': <iris 'Cube' of non_divergent_northward_wind / (m s**-1) (time: 17; latitude: 90; longitude: 144)>, 'u_rot_zm': <iris 'Cube' of zonal_mean_of_non_divergent_eastward_wind / (m s**-1) (time: 17; latitude: 90; longitude: 144)>, 'u_rot_eddy': <iris 'Cube' of zonal_deviation_of_non_divergent_eastward_wind / (m s**-1) (time: 17; latitude: 90; longitude: 144)>, 'v_rot_zm': <iris 'Cube' of zonal_mean_of_non_divergent_northward_wind / (m s**-1) (time: 17; latitude: 90; longitude: 144)>, 'v_rot_eddy': <iris 'Cube' of zonal_deviation_of_non_divergent_northward_wind / (m s**-1) (time: 17; latitude: 90; longitude: 144)>}\n"
     ]
    }
   ],
   "source": [
    "rot_div_cubes = wind_rot_div(u_plevs[:,64], v_plevs[:,64])\n",
    "print(rot_div_cubes)"
   ]
  },
  {
   "cell_type": "code",
   "execution_count": 264,
   "metadata": {},
   "outputs": [],
   "source": [
    "WIND_CMPNT_META = {\n",
    "    \"total\": {\"title\": \"Total\", \"qk_ref_wspd\": 60, \"kw_plt\": {\"color\": \"#222222\"}},\n",
    "    \"div\": {\"title\": \"Divergent\", \"qk_ref_wspd\": 10, \"kw_plt\": {\"color\": \"C0\"}},\n",
    "    \"rot_zm\": {\"title\": \"Jet\", \"qk_ref_wspd\": 60, \"kw_plt\": {\"color\": \"C3\"}},\n",
    "    \"rot_eddy\": {\"title\": \"Eddy\", \"qk_ref_wspd\": 30, \"kw_plt\": {\"color\": \"C2\"}},\n",
    "}"
   ]
  },
  {
   "cell_type": "code",
   "execution_count": 265,
   "metadata": {},
   "outputs": [
    {
     "name": "stdout",
     "output_type": "stream",
     "text": [
      "(144,) (90,)\n"
     ]
    }
   ],
   "source": [
    "lons = (my_run.coord.x.points)-180\n",
    "lats = my_run.coord.y.points\n",
    "print(lons.shape, lats.shape)\n",
    "# Equivalent to\n",
    "# lons = u_at_8km.coord(\"longitude\").points\n",
    "# lats = u_at_8km.coord(\"latitude\").points\n",
    "\n",
    "xstride = 8\n",
    "ystride = 6\n",
    "xsl = slice(None, None, xstride)\n",
    "ysl = slice(None, None, ystride)"
   ]
  },
  {
   "cell_type": "code",
   "execution_count": 266,
   "metadata": {},
   "outputs": [
    {
     "data": {
      "text/plain": [
       "<Figure size 1440x720 with 0 Axes>"
      ]
     },
     "metadata": {},
     "output_type": "display_data"
    }
   ],
   "source": [
    "fig = plt.figure(figsize=(20, 10))\n",
    "plt.suptitle(\"Equilibrium 10x Solar Metallicity\")\n",
    "def animate(i: int):\n",
    "    mosaic = [[*WIND_CMPNT_META.keys()][:2], [*WIND_CMPNT_META.keys()][2:]]\n",
    "    print(i)\n",
    "    axd = fig.subplot_mosaic(mosaic)\n",
    "    iletters = subplot_label_generator()\n",
    "    for wind_key, wind_meta in WIND_CMPNT_META.items():\n",
    "        ax = axd[wind_key]\n",
    "        ax.clear()\n",
    "        ax.set_title(f\"({next(iletters)})\", loc=\"left\")\n",
    "        ax.set_title(wind_meta['title'], loc=\"center\")\n",
    "        ax.set_ylim(-90, 90)\n",
    "        ax.set_xlim(-180, 180)\n",
    "        at = AnchoredText(f\"day: {i * 10}\",\n",
    "                      loc='upper left', prop=dict(size=8), frameon=True,\n",
    "                      )\n",
    "        ax.add_artist(at)\n",
    "        if ax.get_subplotspec().is_first_col():\n",
    "            ax.set_ylabel(\"Latitude [$\\degree$]\")\n",
    "        if ax.get_subplotspec().is_last_row():\n",
    "            ax.set_xlabel(\"Longitude [$\\degree$]\")\n",
    "        # print(_u_cmpnt = rot_div_cubes[f\"u_{wind_key}\"].data.shape)\n",
    "\n",
    "        _u_cmpnt = rot_div_cubes[f\"u_{wind_key}\"].data[i,:,:]\n",
    "        _v_cmpnt = rot_div_cubes[f\"v_{wind_key}\"].data[i,:,:]\n",
    "\n",
    "        qv = ax.quiver(lons[xsl], lats[ysl], _u_cmpnt[ysl, xsl], _v_cmpnt[ysl, xsl], **wind_meta[\"kw_plt\"])\n",
    "    return qv,"
   ]
  },
  {
   "cell_type": "code",
   "execution_count": 267,
   "metadata": {},
   "outputs": [],
   "source": [
    "ani = animation.FuncAnimation(fig, animate, interval=200, blit=False, repeat=False, frames=23, save_count=10000)    \n"
   ]
  },
  {
   "cell_type": "code",
   "execution_count": 268,
   "metadata": {},
   "outputs": [
    {
     "name": "stdout",
     "output_type": "stream",
     "text": [
      "0\n",
      "0\n",
      "1\n",
      "2\n",
      "3\n",
      "4\n",
      "5\n",
      "6\n",
      "7\n",
      "8\n",
      "9\n",
      "10\n",
      "11\n",
      "12\n",
      "13\n",
      "14\n",
      "15\n",
      "16\n",
      "17\n"
     ]
    },
    {
     "ename": "IndexError",
     "evalue": "index 17 is out of bounds for axis 0 with size 17",
     "output_type": "error",
     "traceback": [
      "\u001b[0;31m---------------------------------------------------------------------------\u001b[0m",
      "\u001b[0;31mIndexError\u001b[0m                                Traceback (most recent call last)",
      "\u001b[1;32m/home/bm424/notebooks/rotating_winds.ipynb Cell 19\u001b[0m in \u001b[0;36m<cell line: 1>\u001b[0;34m()\u001b[0m\n\u001b[0;32m----> <a href='vscode-notebook-cell://ssh-remote%2Bprocess.astro.ex.ac.uk/home/bm424/notebooks/rotating_winds.ipynb#X34sdnNjb2RlLXJlbW90ZQ%3D%3D?line=0'>1</a>\u001b[0m ani\u001b[39m.\u001b[39;49msave(\u001b[39m\"\u001b[39;49m\u001b[39meq_mdh1.gif\u001b[39;49m\u001b[39m\"\u001b[39;49m, writer\u001b[39m=\u001b[39;49m\u001b[39m'\u001b[39;49m\u001b[39mimagemagick\u001b[39;49m\u001b[39m'\u001b[39;49m,fps\u001b[39m=\u001b[39;49m\u001b[39m10\u001b[39;49m)\n",
      "File \u001b[0;32m~/miniconda3/envs/hot_jupiter/lib/python3.10/site-packages/matplotlib/animation.py:1089\u001b[0m, in \u001b[0;36mAnimation.save\u001b[0;34m(self, filename, writer, fps, dpi, codec, bitrate, extra_args, metadata, extra_anim, savefig_kwargs, progress_callback)\u001b[0m\n\u001b[1;32m   1086\u001b[0m \u001b[39mfor\u001b[39;00m data \u001b[39min\u001b[39;00m \u001b[39mzip\u001b[39m(\u001b[39m*\u001b[39m[a\u001b[39m.\u001b[39mnew_saved_frame_seq() \u001b[39mfor\u001b[39;00m a \u001b[39min\u001b[39;00m all_anim]):\n\u001b[1;32m   1087\u001b[0m     \u001b[39mfor\u001b[39;00m anim, d \u001b[39min\u001b[39;00m \u001b[39mzip\u001b[39m(all_anim, data):\n\u001b[1;32m   1088\u001b[0m         \u001b[39m# TODO: See if turning off blit is really necessary\u001b[39;00m\n\u001b[0;32m-> 1089\u001b[0m         anim\u001b[39m.\u001b[39;49m_draw_next_frame(d, blit\u001b[39m=\u001b[39;49m\u001b[39mFalse\u001b[39;49;00m)\n\u001b[1;32m   1090\u001b[0m         \u001b[39mif\u001b[39;00m progress_callback \u001b[39mis\u001b[39;00m \u001b[39mnot\u001b[39;00m \u001b[39mNone\u001b[39;00m:\n\u001b[1;32m   1091\u001b[0m             progress_callback(frame_number, total_frames)\n",
      "File \u001b[0;32m~/miniconda3/envs/hot_jupiter/lib/python3.10/site-packages/matplotlib/animation.py:1124\u001b[0m, in \u001b[0;36mAnimation._draw_next_frame\u001b[0;34m(self, framedata, blit)\u001b[0m\n\u001b[1;32m   1120\u001b[0m \u001b[39mdef\u001b[39;00m \u001b[39m_draw_next_frame\u001b[39m(\u001b[39mself\u001b[39m, framedata, blit):\n\u001b[1;32m   1121\u001b[0m     \u001b[39m# Breaks down the drawing of the next frame into steps of pre- and\u001b[39;00m\n\u001b[1;32m   1122\u001b[0m     \u001b[39m# post- draw, as well as the drawing of the frame itself.\u001b[39;00m\n\u001b[1;32m   1123\u001b[0m     \u001b[39mself\u001b[39m\u001b[39m.\u001b[39m_pre_draw(framedata, blit)\n\u001b[0;32m-> 1124\u001b[0m     \u001b[39mself\u001b[39;49m\u001b[39m.\u001b[39;49m_draw_frame(framedata)\n\u001b[1;32m   1125\u001b[0m     \u001b[39mself\u001b[39m\u001b[39m.\u001b[39m_post_draw(framedata, blit)\n",
      "File \u001b[0;32m~/miniconda3/envs/hot_jupiter/lib/python3.10/site-packages/matplotlib/animation.py:1718\u001b[0m, in \u001b[0;36mFuncAnimation._draw_frame\u001b[0;34m(self, framedata)\u001b[0m\n\u001b[1;32m   1714\u001b[0m \u001b[39mself\u001b[39m\u001b[39m.\u001b[39m_save_seq \u001b[39m=\u001b[39m \u001b[39mself\u001b[39m\u001b[39m.\u001b[39m_save_seq[\u001b[39m-\u001b[39m\u001b[39mself\u001b[39m\u001b[39m.\u001b[39msave_count:]\n\u001b[1;32m   1716\u001b[0m \u001b[39m# Call the func with framedata and args. If blitting is desired,\u001b[39;00m\n\u001b[1;32m   1717\u001b[0m \u001b[39m# func needs to return a sequence of any artists that were modified.\u001b[39;00m\n\u001b[0;32m-> 1718\u001b[0m \u001b[39mself\u001b[39m\u001b[39m.\u001b[39m_drawn_artists \u001b[39m=\u001b[39m \u001b[39mself\u001b[39;49m\u001b[39m.\u001b[39;49m_func(framedata, \u001b[39m*\u001b[39;49m\u001b[39mself\u001b[39;49m\u001b[39m.\u001b[39;49m_args)\n\u001b[1;32m   1720\u001b[0m \u001b[39mif\u001b[39;00m \u001b[39mself\u001b[39m\u001b[39m.\u001b[39m_blit:\n\u001b[1;32m   1722\u001b[0m     err \u001b[39m=\u001b[39m \u001b[39mRuntimeError\u001b[39;00m(\u001b[39m'\u001b[39m\u001b[39mThe animation function must return a sequence \u001b[39m\u001b[39m'\u001b[39m\n\u001b[1;32m   1723\u001b[0m                        \u001b[39m'\u001b[39m\u001b[39mof Artist objects.\u001b[39m\u001b[39m'\u001b[39m)\n",
      "\u001b[1;32m/home/bm424/notebooks/rotating_winds.ipynb Cell 19\u001b[0m in \u001b[0;36manimate\u001b[0;34m(i)\u001b[0m\n\u001b[1;32m     <a href='vscode-notebook-cell://ssh-remote%2Bprocess.astro.ex.ac.uk/home/bm424/notebooks/rotating_winds.ipynb#X34sdnNjb2RlLXJlbW90ZQ%3D%3D?line=21'>22</a>\u001b[0m     ax\u001b[39m.\u001b[39mset_xlabel(\u001b[39m\"\u001b[39m\u001b[39mLongitude [$\u001b[39m\u001b[39m\\\u001b[39m\u001b[39mdegree$]\u001b[39m\u001b[39m\"\u001b[39m)\n\u001b[1;32m     <a href='vscode-notebook-cell://ssh-remote%2Bprocess.astro.ex.ac.uk/home/bm424/notebooks/rotating_winds.ipynb#X34sdnNjb2RlLXJlbW90ZQ%3D%3D?line=22'>23</a>\u001b[0m \u001b[39m# print(_u_cmpnt = rot_div_cubes[f\"u_{wind_key}\"].data.shape)\u001b[39;00m\n\u001b[0;32m---> <a href='vscode-notebook-cell://ssh-remote%2Bprocess.astro.ex.ac.uk/home/bm424/notebooks/rotating_winds.ipynb#X34sdnNjb2RlLXJlbW90ZQ%3D%3D?line=24'>25</a>\u001b[0m _u_cmpnt \u001b[39m=\u001b[39m rot_div_cubes[\u001b[39mf\u001b[39;49m\u001b[39m\"\u001b[39;49m\u001b[39mu_\u001b[39;49m\u001b[39m{\u001b[39;49;00mwind_key\u001b[39m}\u001b[39;49;00m\u001b[39m\"\u001b[39;49m]\u001b[39m.\u001b[39;49mdata[i,:,:]\n\u001b[1;32m     <a href='vscode-notebook-cell://ssh-remote%2Bprocess.astro.ex.ac.uk/home/bm424/notebooks/rotating_winds.ipynb#X34sdnNjb2RlLXJlbW90ZQ%3D%3D?line=25'>26</a>\u001b[0m _v_cmpnt \u001b[39m=\u001b[39m rot_div_cubes[\u001b[39mf\u001b[39m\u001b[39m\"\u001b[39m\u001b[39mv_\u001b[39m\u001b[39m{\u001b[39;00mwind_key\u001b[39m}\u001b[39;00m\u001b[39m\"\u001b[39m]\u001b[39m.\u001b[39mdata[i,:,:]\n\u001b[1;32m     <a href='vscode-notebook-cell://ssh-remote%2Bprocess.astro.ex.ac.uk/home/bm424/notebooks/rotating_winds.ipynb#X34sdnNjb2RlLXJlbW90ZQ%3D%3D?line=27'>28</a>\u001b[0m qv \u001b[39m=\u001b[39m ax\u001b[39m.\u001b[39mquiver(lons[xsl], lats[ysl], _u_cmpnt[ysl, xsl], _v_cmpnt[ysl, xsl], \u001b[39m*\u001b[39m\u001b[39m*\u001b[39mwind_meta[\u001b[39m\"\u001b[39m\u001b[39mkw_plt\u001b[39m\u001b[39m\"\u001b[39m])\n",
      "\u001b[0;31mIndexError\u001b[0m: index 17 is out of bounds for axis 0 with size 17"
     ]
    }
   ],
   "source": [
    "ani.save(\"eq_mdh1.gif\", writer='imagemagick',fps=10)"
   ]
  },
  {
   "cell_type": "code",
   "execution_count": null,
   "metadata": {},
   "outputs": [],
   "source": []
  }
 ],
 "metadata": {
  "kernelspec": {
   "display_name": "Python 3.10.5 ('hot_jupiter')",
   "language": "python",
   "name": "python3"
  },
  "language_info": {
   "codemirror_mode": {
    "name": "ipython",
    "version": 3
   },
   "file_extension": ".py",
   "mimetype": "text/x-python",
   "name": "python",
   "nbconvert_exporter": "python",
   "pygments_lexer": "ipython3",
   "version": "3.10.5"
  },
  "orig_nbformat": 4,
  "vscode": {
   "interpreter": {
    "hash": "829f76526f6ea37d6c73bf543b0e45e7adc55bc1e05bd3a3d0050c83eb90f8b1"
   }
  }
 },
 "nbformat": 4,
 "nbformat_minor": 2
}
